{
 "metadata": {
  "name": "",
  "signature": "sha256:82ad0f78fd17b1fafae97876a9400a23575fb4334665d0c21f7477dcd058c080"
 },
 "nbformat": 3,
 "nbformat_minor": 0,
 "worksheets": [
  {
   "cells": [
    {
     "cell_type": "code",
     "collapsed": false,
     "input": [
      "URLSTART=\"https://www.commonsensemedia.org\"\n",
      "MOVIES=\"/reviews/age/2/age/3/age/4/age/5/category/movie\"\n",
      "import time, requests\n",
      "for i in xrange(1,3):\n",
      "    pagenumber=\"?page=\"+str(i)\n",
      "    stuff=requests.get(URLSTART+MOVIES+pagenumber)\n",
      "    filetowrite=\"page\"+ '%02d' % i\n",
      "    print \"FTW\", filetowrite\n",
      "    fd=open(filetowrite+\".html\",\"w\")\n",
      "    fd.write(stuff.text.encode('utf-8'))\n",
      "    fd.close()\n",
      "    time.sleep(2)"
     ],
     "language": "python",
     "metadata": {},
     "outputs": [
      {
       "output_type": "stream",
       "stream": "stdout",
       "text": [
        "FTW page01\n",
        "FTW"
       ]
      },
      {
       "output_type": "stream",
       "stream": "stdout",
       "text": [
        " page02\n"
       ]
      }
     ],
     "prompt_number": 8
    },
    {
     "cell_type": "code",
     "collapsed": false,
     "input": [
      "from pyquery import PyQuery as pq\n",
      "moviedict={}\n",
      "for i in xrange(1,3):\n",
      "    movies=[]\n",
      "    stri = '%02d' % i\n",
      "    filetoread=\"page\"+ stri + '.html'\n",
      "    print \"FTW\", filetoread\n",
      "    d=pq(filename=filetoread)\n",
      "    for e in d('.field-content a'):  \n",
      "        movies.append(pq(e).attr.href)\n",
      "    print movies[:10]\n",
      "    moviedict[stri]=movies\n",
      "    fd=open(\"list\"+stri+\".txt\",\"w\")\n",
      "    fd.write(\"\\n\".join(movies))\n",
      "    fd.close()\n",
      "        \n",
      "        \n",
      "    "
     ],
     "language": "python",
     "metadata": {},
     "outputs": [
      {
       "output_type": "stream",
       "stream": "stdout",
       "text": [
        "FTW page01.html\n",
        "['/movie-reviews/minnie-rella', '/movie-reviews/minnie-rella', '/movie-reviews/strawberry-shortcake-puttin-on-the-glitz', '/movie-reviews/strawberry-shortcake-puttin-on-the-glitz', '/movie-reviews/mumfies-quest-the-movie', '/movie-reviews/mumfies-quest-the-movie', '/movie-reviews/sesame-street-be-a-good-sport', '/movie-reviews/sesame-street-be-a-good-sport', '/movie-reviews/jake-and-the-never-land-pirates-jakes-never-land-rescue', '/movie-reviews/jake-and-the-never-land-pirates-jakes-never-land-rescue']\n",
        "FTW page02.html\n",
        "['/movie-reviews/thomas-friends-king-of-the-railway', '/movie-reviews/thomas-friends-king-of-the-railway', '/movie-reviews/hoopsyoyos-haunted-halloween', '/movie-reviews/hoopsyoyos-haunted-halloween', '/movie-reviews/lala-oopsies-a-sew-magical-tale', '/movie-reviews/lala-oopsies-a-sew-magical-tale', '/movie-reviews/barbie-mariposa-the-fairy-princess', '/movie-reviews/barbie-mariposa-the-fairy-princess', '/movie-reviews/super-buddies', '/movie-reviews/super-buddies']"
       ]
      },
      {
       "output_type": "stream",
       "stream": "stdout",
       "text": [
        "\n"
       ]
      }
     ],
     "prompt_number": 9
    },
    {
     "cell_type": "code",
     "collapsed": false,
     "input": [
      "movieurl=URLSTART+moviedict['02'][0]\n",
      "movieurl\n"
     ],
     "language": "python",
     "metadata": {},
     "outputs": [
      {
       "metadata": {},
       "output_type": "pyout",
       "prompt_number": 14,
       "text": [
        "'https://www.commonsensemedia.org/movie-reviews/thomas-friends-king-of-the-railway'"
       ]
      }
     ],
     "prompt_number": 14
    },
    {
     "cell_type": "code",
     "collapsed": false,
     "input": [
      "moviepage=requests.get(movieurl)\n"
     ],
     "language": "python",
     "metadata": {},
     "outputs": [],
     "prompt_number": 15
    },
    {
     "cell_type": "code",
     "collapsed": false,
     "input": [
      "moviefiletowrite = \"movie\"\n",
      "fd=open(moviefiletowrite+\".html\",\"w\")\n",
      "fd.write(moviepage.text.encode('utf-8'))\n",
      "fd.close()"
     ],
     "language": "python",
     "metadata": {},
     "outputs": [],
     "prompt_number": 17
    },
    {
     "cell_type": "code",
     "collapsed": false,
     "input": [
      "moviepage.text[0:500]"
     ],
     "language": "python",
     "metadata": {},
     "outputs": [
      {
       "metadata": {},
       "output_type": "pyout",
       "prompt_number": 12,
       "text": [
        "u'<!DOCTYPE html>\\n<!--[if IEMobile 7]><html class=\"no-js iem7\"  lang=\"en\" dir=\"ltr\"><![endif]-->\\n<!--[if lte IE 6]><html class=\"no-js lt-ie9 lt-ie8 lt-ie7\"  lang=\"en\" dir=\"ltr\"><![endif]-->\\n<!--[if (IE 7)&(!IEMobile)]><html class=\"no-js lt-ie9 lt-ie8\"  lang=\"en\" dir=\"ltr\"><![endif]-->\\n<!--[if IE 8]><html class=\"no-js lt-ie9\"  lang=\"en\" dir=\"ltr\"><![endif]-->\\n<!--[if (gte IE 9)|(gt IEMobile 7)]><!--><html  lang=\"en\" dir=\"ltr\" prefix=\"content: http://purl.org/rss/1.0/modules/content/ dc: http://purl'"
       ]
      }
     ],
     "prompt_number": 12
    },
    {
     "cell_type": "code",
     "collapsed": false,
     "input": [
      "d=pq(moviepage.text)\n",
      "print \"Title: \"+ d(\"meta[property='og:title']\").attr('content').split(' - ')[0]\n",
      "print \"URL: \" + d(\"meta[property='og:url']\").attr('content')\n",
      "keywordlist= d(\"meta[name='keywords']\").attr('content').split(',')\n",
      "print \"Keywords: \" + d(\"meta[name='keywords']\").attr('content')\n",
      "print \"Image url: \" + d(\"meta[property='og:image']\").attr('content')\n",
      "print \"Age rating (CSM): \"+ d(\"div#slider-container span.targetAge\").text()\n",
      "print \"Quality rating (CSM): \"+ d(\"div.ratings-small\").attr('class').split()[2].split('-')[1] \n",
      "print \"Educational value rating: \"+ d(\"div.educational\").nextAll(\"div div div.content-grid-rating\").attr(\"class\").split()[1].split('-')[2]\n",
      "\n",
      "#ed note not working:  need to add notes for others, too\n",
      "print \"Educational value note: \"+ str(d(\"a#content-grid-type-selected-educational\").attr(\"class\"))\n",
      "\n",
      "print \"Positive message rating: \"+ d(\"div.message\").nextAll(\"div div div.content-grid-rating\").attr(\"class\").split()[1].split('-')[2]\n",
      "print \"Positive role model rating: \"+ d(\"div.role_model\").nextAll(\"div div div.content-grid-rating\").attr(\"class\").split()[1].split('-')[2]\n",
      "print \"Violence and scariness rating: \"+ d(\"div.violence\").nextAll(\"div div div.content-grid-rating\").attr(\"class\").split()[1].split('-')[2] \n",
      "print \"Sexy stuff rating: \"+ d(\"div.sex\").nextAll(\"div div div.content-grid-rating\").attr(\"class\").split()[1].split('-')[2]\n",
      "print \"Language rating: \"+ d(\"div.language\").nextAll(\"div div div.content-grid-rating\").attr(\"class\").split()[1].split('-')[2]\n",
      "print \"Consumerism rating: \"+ d(\"div.consumerism\").nextAll(\"div div div.content-grid-rating\").attr(\"class\").split()[1].split('-')[2]\n",
      "print \"Drug rating: \"+ d(\"div.drugs\").nextAll(\"div div div.content-grid-rating\").attr(\"class\").split()[1].split('-')[2] \n",
      "\n",
      "print \"Review: \"+d(\"div.field-name-field-parents-need-to-know\").text()\n",
      "if d(\"div.panel-pane pane-user-review-statistics\"):\n",
      "    if d(\"div#user-review-statistics-adult div.no-stats\"):\n",
      "        print \"Age rating (parents): n/a\"\n",
      "        print \"Quality rating (parents): n/a\"\n",
      "        print \"Number of ratings (parents): 0\"\n",
      "    else:\n",
      "        print \"Age rating (parents): \"+ d(\"div#user-review-statistics-adult div.target-age\").text()\n",
      "        print \"Quality rating (parents): \"+ d(\"div#user-review-statistics-adult div.ratings-small\").attr(\"class\").split()[2].split('-')[1] \n",
      "        print \"Number of ratings (parents): \"+ d(\"div.adult a.link-all-user-reviews\").text().split()[1]\n",
      "    if d(\"div#user-review-statistics-child div.no-stats\"):\n",
      "        print \"Age rating (kids): n/a\"\n",
      "        print \"Quality rating (kids): n/a\"\n",
      "        print \"Number of ratings (kids): 0\"\n",
      "    else:\n",
      "        print \"Age rating (kids): \"+d(\"div#user-review-statistics-child div.target-age\").text()\n",
      "        print \"Quality rating (kids): \"+ d(\"div#user-review-statistics-child div.ratings-small\").attr(\"class\").split()[1].split('-')[2] \n",
      "        print \"Number of ratings (parents): \"+ d(\"div.child a.link-all-user-reviews\").text().split()[1]\n",
      "else:\n",
      "        print \"Age rating (parents): n/a\"\n",
      "        print \"Quality rating (parents): n/a\"\n",
      "        print \"Number of ratings (parents): 0\"  \n",
      "        print \"Age rating (kids): n/a\"\n",
      "        print \"Quality rating (kids): n/a\"\n",
      "        print \"Number of ratings (kids): 0\"\n",
      "\n",
      "#print d(\"div.view-review-other-choices-view div\")   ALL FOLLOWING MESSED UP\n",
      "alternativemovies=[]\n",
      "print type(d(\"div.view-review-other-choices-view div\"))\n",
      "for d(\"li\") in d(\"div.view-review-other-choices-view div div div ul.slides\"):\n",
      "    #alternativemovies.append(pq(alternativemovie).text())\n",
      "    #print alternativemovies\n",
      "    print d(\"li\").text()"
     ],
     "language": "python",
     "metadata": {},
     "outputs": [
      {
       "ename": "SyntaxError",
       "evalue": "can't assign to function call (<ipython-input-42-75aff3e332c5>, line 51)",
       "output_type": "pyerr",
       "traceback": [
        "\u001b[0;36m  File \u001b[0;32m\"<ipython-input-42-75aff3e332c5>\"\u001b[0;36m, line \u001b[0;32m51\u001b[0m\n\u001b[0;31m    for d(\"li\") in d(\"div.view-review-other-choices-view div div div ul.slides\"):\u001b[0m\n\u001b[0;31mSyntaxError\u001b[0m\u001b[0;31m:\u001b[0m can't assign to function call\n"
       ]
      }
     ],
     "prompt_number": 42
    },
    {
     "cell_type": "code",
     "collapsed": false,
     "input": [],
     "language": "python",
     "metadata": {},
     "outputs": [],
     "prompt_number": 106
    },
    {
     "cell_type": "code",
     "collapsed": false,
     "input": [],
     "language": "python",
     "metadata": {},
     "outputs": []
    }
   ],
   "metadata": {}
  }
 ]
}