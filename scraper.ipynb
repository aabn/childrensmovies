{
 "metadata": {
  "name": "",
  "signature": "sha256:d537dd496c8854d25838d9f30cda5ede72d5d2b1be507f14ee8f1f05a2f4ef52"
 },
 "nbformat": 3,
 "nbformat_minor": 0,
 "worksheets": [
  {
   "cells": [
    {
     "cell_type": "code",
     "collapsed": false,
     "input": [
      "URLSTART=\"https://www.commonsensemedia.org\"\n",
      "MOVIES=\"/reviews/age/2/age/3/age/4/age/5/category/movie\"\n",
      "import time, requests\n",
      "for i in xrange(1,3):\n",
      "    pagenumber=\"?page=\"+str(i)\n",
      "    stuff=requests.get(URLSTART+MOVIES+pagenumber) #should do main page first then page numbers for subsequent pages\n",
      "    filetowrite=\"page\"+ '%02d' % i\n",
      "    print \"FTW\", filetowrite\n",
      "    fd=open(filetowrite+\".html\",\"w\")\n",
      "    fd.write(stuff.text.encode('utf-8'))\n",
      "    fd.close()\n",
      "    time.sleep(2)"
     ],
     "language": "python",
     "metadata": {},
     "outputs": [
      {
       "output_type": "stream",
       "stream": "stdout",
       "text": [
        "FTW page01\n",
        "FTW"
       ]
      },
      {
       "output_type": "stream",
       "stream": "stdout",
       "text": [
        " page02\n"
       ]
      }
     ],
     "prompt_number": 20
    },
    {
     "cell_type": "code",
     "collapsed": false,
     "input": [
      "from pyquery import PyQuery as pq\n",
      "moviedict={}\n",
      "for i in xrange(1,3):  #needs to search all pages\n",
      "    movies=[]\n",
      "    stri = '%02d' % i\n",
      "    filetoread=\"page\"+ stri + '.html'\n",
      "    print \"FTW\", filetoread\n",
      "    d=pq(filename=filetoread)\n",
      "    for e in d('.field-content a'):  \n",
      "        movies.append(pq(e).attr.href)\n",
      "    print movies[:10]\n",
      "    moviedict[stri]=movies\n",
      "    fd=open(\"list\"+stri+\".txt\",\"w\")\n",
      "    fd.write(\"\\n\".join(movies))\n",
      "    fd.close()\n",
      "        \n",
      "        \n",
      "    "
     ],
     "language": "python",
     "metadata": {},
     "outputs": [
      {
       "output_type": "stream",
       "stream": "stdout",
       "text": [
        "FTW page01.html\n",
        "['/movie-reviews/minnie-rella', '/movie-reviews/minnie-rella', '/movie-reviews/strawberry-shortcake-puttin-on-the-glitz', '/movie-reviews/strawberry-shortcake-puttin-on-the-glitz', '/movie-reviews/mumfies-quest-the-movie', '/movie-reviews/mumfies-quest-the-movie', '/movie-reviews/sesame-street-be-a-good-sport', '/movie-reviews/sesame-street-be-a-good-sport', '/movie-reviews/jake-and-the-never-land-pirates-jakes-never-land-rescue', '/movie-reviews/jake-and-the-never-land-pirates-jakes-never-land-rescue']\n",
        "FTW page02.html\n",
        "['/movie-reviews/thomas-friends-king-of-the-railway', '/movie-reviews/thomas-friends-king-of-the-railway', '/movie-reviews/hoopsyoyos-haunted-halloween', '/movie-reviews/hoopsyoyos-haunted-halloween', '/movie-reviews/lala-oopsies-a-sew-magical-tale', '/movie-reviews/lala-oopsies-a-sew-magical-tale', '/movie-reviews/barbie-mariposa-the-fairy-princess', '/movie-reviews/barbie-mariposa-the-fairy-princess', '/movie-reviews/super-buddies', '/movie-reviews/super-buddies']"
       ]
      },
      {
       "output_type": "stream",
       "stream": "stdout",
       "text": [
        "\n"
       ]
      }
     ],
     "prompt_number": 21
    },
    {
     "cell_type": "code",
     "collapsed": false,
     "input": [
      "movieurl=URLSTART+moviedict['02'][0]\n",
      "movieurl\n"
     ],
     "language": "python",
     "metadata": {},
     "outputs": [
      {
       "metadata": {},
       "output_type": "pyout",
       "prompt_number": 22,
       "text": [
        "'https://www.commonsensemedia.org/movie-reviews/thomas-friends-king-of-the-railway'"
       ]
      }
     ],
     "prompt_number": 22
    },
    {
     "cell_type": "code",
     "collapsed": false,
     "input": [
      "moviepage=requests.get(movieurl)\n"
     ],
     "language": "python",
     "metadata": {},
     "outputs": [],
     "prompt_number": 23
    },
    {
     "cell_type": "code",
     "collapsed": false,
     "input": [
      "moviefiletowrite = \"movie\"\n",
      "fd=open(moviefiletowrite+\".html\",\"w\")\n",
      "fd.write(moviepage.text.encode('utf-8'))\n",
      "fd.close()"
     ],
     "language": "python",
     "metadata": {},
     "outputs": [],
     "prompt_number": 24
    },
    {
     "cell_type": "code",
     "collapsed": false,
     "input": [
      "moviepage.text[0:500]"
     ],
     "language": "python",
     "metadata": {},
     "outputs": [
      {
       "metadata": {},
       "output_type": "pyout",
       "prompt_number": 25,
       "text": [
        "u'<!DOCTYPE html>\\n<!--[if IEMobile 7]><html class=\"no-js iem7\"  lang=\"en\" dir=\"ltr\"><![endif]-->\\n<!--[if lte IE 6]><html class=\"no-js lt-ie9 lt-ie8 lt-ie7\"  lang=\"en\" dir=\"ltr\"><![endif]-->\\n<!--[if (IE 7)&(!IEMobile)]><html class=\"no-js lt-ie9 lt-ie8\"  lang=\"en\" dir=\"ltr\"><![endif]-->\\n<!--[if IE 8]><html class=\"no-js lt-ie9\"  lang=\"en\" dir=\"ltr\"><![endif]-->\\n<!--[if (gte IE 9)|(gt IEMobile 7)]><!--><html  lang=\"en\" dir=\"ltr\" prefix=\"content: http://purl.org/rss/1.0/modules/content/ dc: http://purl'"
       ]
      }
     ],
     "prompt_number": 25
    },
    {
     "cell_type": "code",
     "collapsed": false,
     "input": [
      "d=pq(moviepage.text)\n",
      "\n",
      "title = d(\"meta[property='og:title']\").attr('content').split(' - ')[0]\n",
      "url = d(\"meta[property='og:url']\").attr('content')\n",
      "keywordlist= d(\"meta[name='keywords']\").attr('content').split(',')\n",
      "keywordstring=d(\"meta[name='keywords']\").attr('content')\n",
      "imageurl = d(\"meta[property='og:image']\").attr('content')\n",
      "csmagerating = d(\"div#slider-container span.targetAge\").text()\n",
      "csmqualityrating = d(\"div.ratings-small\").attr('class').split()[2].split('-')[1] \n",
      "educationalrating = d(\"div.educational\").nextAll(\"div div div.content-grid-rating\").attr(\"class\").split()[1].split('-')[2]\n",
      "\n",
      "#ed note not working:  need to add notes for others, too\n",
      "educationalnote = str(d(\"a#content-grid-type-selected-educational\").attr(\"class\"))\n",
      "\n",
      "positivemessagerating = d(\"div.message\").nextAll(\"div div div.content-grid-rating\").attr(\"class\").split()[1].split('-')[2]\n",
      "rolemodelrating = d(\"div.role_model\").nextAll(\"div div div.content-grid-rating\").attr(\"class\").split()[1].split('-')[2]\n",
      "violencerating = d(\"div.violence\").nextAll(\"div div div.content-grid-rating\").attr(\"class\").split()[1].split('-')[2] \n",
      "sexrating = d(\"div.sex\").nextAll(\"div div div.content-grid-rating\").attr(\"class\").split()[1].split('-')[2]\n",
      "languagerating = d(\"div.language\").nextAll(\"div div div.content-grid-rating\").attr(\"class\").split()[1].split('-')[2]\n",
      "consumerismrating = d(\"div.consumerism\").nextAll(\"div div div.content-grid-rating\").attr(\"class\").split()[1].split('-')[2]\n",
      "drugrating = d(\"div.drugs\").nextAll(\"div div div.content-grid-rating\").attr(\"class\").split()[1].split('-')[2] \n",
      "review = d(\"div.field-name-field-parents-need-to-know\").text()\n",
      "\n",
      "if d(\"div.panel-pane pane-user-review-statistics\"):\n",
      "    if d(\"div#user-review-statistics-adult div.no-stats\"):\n",
      "        parentagerating = None\n",
      "        parentqualityrating = None\n",
      "        parentratingcount = 0\n",
      "    else:\n",
      "        parentagerating = d(\"div#user-review-statistics-adult div.target-age\").text()\n",
      "        parentqualityrating = d(\"div#user-review-statistics-adult div.ratings-small\").attr(\"class\").split()[2].split('-')[1] \n",
      "        parentratingcount = d(\"div.adult a.link-all-user-reviews\").text().split()[1]\n",
      "    if d(\"div#user-review-statistics-child div.no-stats\"):\n",
      "        kidagerating = None\n",
      "        kidqualityrating = None\n",
      "        kidratingcount = 0\n",
      "    else:\n",
      "        kidagerating = d(\"div#user-review-statistics-child div.target-age\").text()\n",
      "        kidqualityrating = d(\"div#user-review-statistics-child div.ratings-small\").attr(\"class\").split()[1].split('-')[2] \n",
      "        kidratingcount = d(\"div.child a.link-all-user-reviews\").text().split()[1]\n",
      "else:\n",
      "        parentagerating = None\n",
      "        parentqualityrating = None\n",
      "        parentratingcount = 0\n",
      "        kidagerating = None\n",
      "        kidqualityrating = None\n",
      "        kidratingcount = 0\n",
      "\n",
      "        #need to work on this\n",
      "alternativemovies=[]\n",
      "for alternativemovie in d(\"ul.slides li div strong a\"):\n",
      "    alternativemovies.append(pq(alternativemovie).text()+\"|\"+URLSTART+pq(alternativemovie).attr(\"href\"))\n",
      "    \n",
      "    #needs to append\n",
      "#alternativemovies=[]\n",
      "#for movie in d(\"ul.slides li div strong a\"):\n",
      " #   alternativemovie={}\n",
      "  #  alternativemovie['name']=pq(alternativemovie).text()\n",
      "  #  alternativemovie['url']=pq(alternativemovie).attr(\"href\")\n",
      "  #  alternativemovies.append(alternativemovie)\n",
      "\n",
      "\n",
      "print \"Title: \"+ title\n",
      "print \"URL: \"+ url\n",
      "print \"Keywords: \"+ keywordstring\n",
      "print \"Image: \"+ imageurl\n",
      "print \"Age rating (CSM): \"+ csmagerating\n",
      "print \"Quality rating (CSM): \"+ csmqualityrating \n",
      "print \"Educationalrating: \"+ educationalrating\n",
      "\n",
      "#ed note not working:  need to add notes for others, too\n",
      "print \"Educational note: \"+ educationalnote\n",
      "\n",
      "print \"Positive message rating: \"+ positivemessagerating\n",
      "print \"Positive role model rating: \"+ rolemodelrating\n",
      "print \"Violence and scariness rating: \"+ violencerating \n",
      "print \"Sexy stuff rating: \"+ sexrating\n",
      "print \"Language rating: \"+ languagerating\n",
      "print \"Consumerism rating: \"+ consumerismrating\n",
      "print \"Drug rating: \"+ drugrating \n",
      "\n",
      "print \"Review: \"+ review\n",
      "print \"Age rating (parents): \"+ str(parentagerating)\n",
      "print \"Quality rating (parents): \"+ str(parentqualityrating)\n",
      "print \"Number of ratings (parents): \"+ str(parentratingcount)\n",
      "print \"Age rating (kids): \"+ str(kidagerating)\n",
      "print \"Quality rating (kids): \"+ str(kidqualityrating)\n",
      "print \"Number of ratings (kids): \"+ str(kidratingcount)\n",
      "\n",
      "\n",
      "print alternativemovies\n",
      "\n",
      "\n"
     ],
     "language": "python",
     "metadata": {},
     "outputs": [
      {
       "output_type": "stream",
       "stream": "stdout",
       "text": [
        "Title: Thomas & Friends: King of the Railway\n",
        "URL: https://www.commonsensemedia.org/movie-reviews/thomas-friends-king-of-the-railway\n",
        "Keywords: Movie,Book characters,Trains\n",
        "Image: https://d2e111jq13me73.cloudfront.net/sites/default/files/styles/share_link_image/public/product-images/csm-movie/king-of-railway.jpg?itok=1nAKOr7_\n",
        "Age rating (CSM): 3\n",
        "Quality rating (CSM): 3\n",
        "Educationalrating: 2\n",
        "Educational note: None\n",
        "Positive message rating: 4\n",
        "Positive role model rating: 3\n",
        "Violence and scariness rating: 1\n",
        "Sexy stuff rating: 0\n",
        "Language rating: 0\n",
        "Consumerism rating: 4\n",
        "Drug rating: 0\n",
        "Review: Parents need to know that all the familiar trains are back in a new preschooler-appropriate adventure. Thomas & Friends: King of the Railway is intended for very young viewers and delivers a simple story and easy-to-understand messages about teamwork and keeping one's word. There are a few mildly scary scenes (runaway trains on a steep hill, an engine trapped in a mine), but the movie is mainly lighthearted (no villains here) and, as always, upbeat and positive in tone and resolution as well as the music that comes along with the ride. Thomas & Friends is part of a vast franchise of books, videos, toys, clothing, and children's accessories, so expect an interest in those, too.\n",
        "Age rating (parents): None\n",
        "Quality rating (parents): None\n",
        "Number of ratings (parents): 0\n",
        "Age rating (kids): None\n",
        "Quality rating (kids): None\n",
        "Number of ratings (kids): 0\n",
        "['Dinosaur Train: Dinosaur Big City|https://www.commonsensemedia.org/movie-reviews/dinosaur-train-dinosaur-big-city', 'The Little Engine That Could|https://www.commonsensemedia.org/movie-reviews/the-little-engine-that-could', 'The Animal Train|https://www.commonsensemedia.org/movie-reviews/the-animal-train', 'Thomas & Friends: The Great Discovery|https://www.commonsensemedia.org/movie-reviews/thomas-friends-the-great-discovery']\n"
       ]
      }
     ],
     "prompt_number": 29
    },
    {
     "cell_type": "code",
     "collapsed": false,
     "input": [
      "fetched=[]\n",
      "with open(\"list01.txt\") as fd:\n",
      "    counter=0\n",
      "    for movieurl_line in fd:\n",
      "        if counter > 4:\n",
      "                break\n",
      "        movieurl=movieurl_line.strip()\n",
      "        print movieurl\n",
      "        \n",
      "       # stuff=requests.get(URLSTART+movieurl)\n",
      "       # filetowrite=stri+\"_\"+filetowrite+\".html\"\n",
      "       # print \"FTW\", filetowrite\n",
      "       # fd=open(filetowrite,\"w\")\n",
      "       # fd.write(stuff.text.encode('utf-8'))\n",
      "       # fd.close()\n",
      "       # fetched.append(filetowrite)\n",
      "       # time.sleep(2)\n",
      "       # counter=counter+1\n",
      "#print fetched"
     ],
     "language": "python",
     "metadata": {},
     "outputs": [
      {
       "output_type": "stream",
       "stream": "stdout",
       "text": [
        "/movie-reviews/minnie-rella\n",
        "/movie-reviews/minnie-rella\n",
        "/movie-reviews/strawberry-shortcake-puttin-on-the-glitz\n",
        "/movie-reviews/strawberry-shortcake-puttin-on-the-glitz\n",
        "/movie-reviews/mumfies-quest-the-movie\n",
        "/movie-reviews/mumfies-quest-the-movie\n",
        "/movie-reviews/sesame-street-be-a-good-sport\n",
        "/movie-reviews/sesame-street-be-a-good-sport\n",
        "/movie-reviews/jake-and-the-never-land-pirates-jakes-never-land-rescue\n",
        "/movie-reviews/jake-and-the-never-land-pirates-jakes-never-land-rescue\n",
        "/video/modal/4251751\n",
        "/movie-reviews/planes\n",
        "/movie-reviews/mumfies-white-christmas\n",
        "/movie-reviews/mumfies-white-christmas\n",
        "/movie-reviews/winnie-the-pooh-a-very-merry-pooh-year\n",
        "/movie-reviews/winnie-the-pooh-a-very-merry-pooh-year\n",
        "/movie-reviews/care-bears-the-great-giving-holiday\n",
        "/movie-reviews/care-bears-the-great-giving-holiday\n",
        "/movie-reviews/bratz-babyz-save-christmas\n",
        "/movie-reviews/bratz-babyz-save-christmas\n",
        "/video/modal/4111971\n",
        "/movie-reviews/monsters-university\n",
        "/movie-reviews/barbie-and-her-sisters-in-a-pony-tale\n",
        "/movie-reviews/barbie-and-her-sisters-in-a-pony-tale\n",
        "/movie-reviews/veggietales-merry-larry-the-true-light-of-christmas\n",
        "/movie-reviews/veggietales-merry-larry-the-true-light-of-christmas\n",
        "/movie-reviews/rubys-studio-the-safety-show\n",
        "/movie-reviews/rubys-studio-the-safety-show\n",
        "/movie-reviews/lost-and-found\n",
        "/movie-reviews/lost-and-found\n",
        "/movie-reviews/the-swan-princess-christmas\n",
        "/movie-reviews/the-swan-princess-christmas\n",
        "/movie-reviews/phineas-and-ferb-mission-marvel\n",
        "/movie-reviews/phineas-and-ferb-mission-marvel\n",
        "/movie-reviews/the-little-mermaid\n",
        "/movie-reviews/the-little-mermaid\n",
        "/movie-reviews/the-snowman-and-the-snowdog\n",
        "/movie-reviews/the-snowman-and-the-snowdog\n",
        "/movie-reviews/curious-george-a-halloween-boo-fest\n",
        "/movie-reviews/curious-george-a-halloween-boo-fest\n",
        "/movie-reviews/big-hero-6\n",
        "/movie-reviews/interstellar\n",
        "/movie-reviews/jessabelle\n",
        "/movie-reviews/dumb-and-dumber-to\n",
        "/movie-reviews/the-hunger-games-mockingjay-part-1\n",
        "/movie-reviews/horrible-bosses-2\n",
        "/movie-reviews/penguins-of-madagascar\n",
        "/movie-reviews/exodus-gods-and-kings\n",
        "/movie-reviews/the-hobbit-the-battle-of-the-five-armies\n",
        "/movie-reviews/annie-2014\n",
        "/movie-reviews\n",
        "/reviews/a-z/movie\n",
        "/game-reviews\n",
        "/reviews/a-z/game\n",
        "/app-reviews\n",
        "/reviews/a-z/app\n",
        "/website-reviews\n",
        "/reviews/a-z/website\n",
        "/tv-reviews\n",
        "/reviews/a-z/tv\n",
        "/book-reviews\n",
        "/reviews/a-z/book\n",
        "/music-reviews\n",
        "/reviews/a-z/music\n",
        "/movie-lists/new-kids-movies\n",
        "/lists/new-kids-tv\n",
        "/lists/critical-thinking-apps-games\n",
        "/lists/best-books-for-babies-and-toddlers\n",
        "/lists/tv-and-movies-that-celebrate-grit\n",
        "/lists/sites-that-help-kids-do-good\n",
        "/lists/best-kids-movies-on-netflix-instant\n",
        "/lists/movement-games-apps-and-websites\n",
        "/lists/read-aloud-books\n",
        "/lists/physics-games-for-kids\n",
        "/movie-lists\n",
        "/game-lists\n",
        "/app-lists\n",
        "/website-lists\n",
        "/tv-lists\n",
        "/book-lists\n",
        "/music-lists\n",
        "/best-for-learning-lists\n"
       ]
      }
     ],
     "prompt_number": 36
    },
    {
     "cell_type": "code",
     "collapsed": false,
     "input": [
      "import re\n",
      "listofdicts = []\n",
      "for "
     ],
     "language": "python",
     "metadata": {},
     "outputs": []
    },
    {
     "cell_type": "code",
     "collapsed": false,
     "input": [],
     "language": "python",
     "metadata": {},
     "outputs": []
    }
   ],
   "metadata": {}
  }
 ]
}