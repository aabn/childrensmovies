{
 "metadata": {
  "name": "",
  "signature": "sha256:f58f7e5c391d85a12b46c7ee0caadcbb4e7f9c971c9139b2e07696aa2a535e0a"
 },
 "nbformat": 3,
 "nbformat_minor": 0,
 "worksheets": [
  {
   "cells": [
    {
     "cell_type": "code",
     "collapsed": false,
     "input": [
      "URLSTART=\"https://www.commonsensemedia.org\"\n",
      "MOVIES=\"/reviews/age/2/age/3/age/4/age/5/category/movie\"\n",
      "import time, requests\n",
      "for i in xrange(1,3):\n",
      "    movieurl=\"?page=\"+str(i)\n",
      "    stuff=requests.get(URLSTART+MOVIES+movieurl)\n",
      "    filetowrite=\"page\"+ '%02d' % i\n",
      "    print \"FTW\", filetowrite\n",
      "    fd=open(filetowrite+\".html\",\"w\")\n",
      "    fd.write(stuff.text.encode('utf-8'))\n",
      "    fd.close()\n",
      "    time.sleep(2)"
     ],
     "language": "python",
     "metadata": {},
     "outputs": [
      {
       "output_type": "stream",
       "stream": "stdout",
       "text": [
        "FTW page01\n",
        "FTW"
       ]
      },
      {
       "output_type": "stream",
       "stream": "stdout",
       "text": [
        " page02\n"
       ]
      }
     ],
     "prompt_number": 2
    },
    {
     "cell_type": "code",
     "collapsed": false,
     "input": [
      "from pyquery import PyQuery as pq\n",
      "moviedict={}\n",
      "for i in xrange(1,3):\n",
      "    movies=[]\n",
      "    stri = '%02d' % i\n",
      "    filetoread=\"page\"+ stri + '.html'\n",
      "    print \"FTW\", filetoread\n",
      "    d=pq(filename=filetoread)\n",
      "    for e in d('.field-content a'):  \n",
      "        movies.append(pq(e).attr.href)\n",
      "    print movies[:10]\n",
      "    moviedict[stri]=movies\n",
      "    fd=open(\"list\"+stri+\".txt\",\"w\")\n",
      "    fd.write(\"\\n\".join(movies))\n",
      "    fd.close()\n",
      "        \n",
      "        \n",
      "    "
     ],
     "language": "python",
     "metadata": {},
     "outputs": [
      {
       "output_type": "stream",
       "stream": "stdout",
       "text": [
        "FTW page01.html\n",
        "['/movie-reviews/minnie-rella', '/movie-reviews/minnie-rella', '/movie-reviews/strawberry-shortcake-puttin-on-the-glitz', '/movie-reviews/strawberry-shortcake-puttin-on-the-glitz', '/movie-reviews/mumfies-quest-the-movie', '/movie-reviews/mumfies-quest-the-movie', '/movie-reviews/sesame-street-be-a-good-sport', '/movie-reviews/sesame-street-be-a-good-sport', '/movie-reviews/jake-and-the-never-land-pirates-jakes-never-land-rescue', '/movie-reviews/jake-and-the-never-land-pirates-jakes-never-land-rescue']"
       ]
      },
      {
       "output_type": "stream",
       "stream": "stdout",
       "text": [
        "\n",
        "FTW page02.html\n",
        "['/movie-reviews/thomas-friends-king-of-the-railway', '/movie-reviews/thomas-friends-king-of-the-railway', '/movie-reviews/hoopsyoyos-haunted-halloween', '/movie-reviews/hoopsyoyos-haunted-halloween', '/movie-reviews/lala-oopsies-a-sew-magical-tale', '/movie-reviews/lala-oopsies-a-sew-magical-tale', '/movie-reviews/barbie-mariposa-the-fairy-princess', '/movie-reviews/barbie-mariposa-the-fairy-princess', '/movie-reviews/super-buddies', '/movie-reviews/super-buddies']"
       ]
      },
      {
       "output_type": "stream",
       "stream": "stdout",
       "text": [
        "\n"
       ]
      }
     ],
     "prompt_number": 3
    },
    {
     "cell_type": "code",
     "collapsed": false,
     "input": [
      "tomurl=URLSTART+moviedict['02'][0]\n",
      "tomurl\n"
     ],
     "language": "python",
     "metadata": {},
     "outputs": [
      {
       "metadata": {},
       "output_type": "pyout",
       "prompt_number": 4,
       "text": [
        "'https://www.commonsensemedia.org/movie-reviews/thomas-friends-king-of-the-railway'"
       ]
      }
     ],
     "prompt_number": 4
    },
    {
     "cell_type": "code",
     "collapsed": false,
     "input": [
      "tomstuff=requests.get(tomurl)"
     ],
     "language": "python",
     "metadata": {},
     "outputs": [],
     "prompt_number": 5
    },
    {
     "cell_type": "code",
     "collapsed": false,
     "input": [
      "tomstuff.text[800:2000]"
     ],
     "language": "python",
     "metadata": {},
     "outputs": [
      {
       "metadata": {},
       "output_type": "pyout",
       "prompt_number": 6,
       "text": [
        "u'js\"><!--<![endif]-->\\n\\n<head profile=\"http://www.w3.org/1999/xhtml/vocab\">\\n  <!--[if lte IE 9]><meta http-equiv=\"X-UA-Compatible\" content=\"IE=edge,chrome=1\" />\\n<![endif]--><meta charset=\"utf-8\" />\\n<meta name=\"keywords\" content=\"Movie,Book characters,Trains\" />\\n<meta property=\"og:image\" content=\"https://d2e111jq13me73.cloudfront.net/sites/default/files/styles/share_link_image/public/product-images/csm-movie/king-of-railway.jpg?itok=1nAKOr7_\" />\\n<meta name=\"description\" content=\"Is Thomas &amp; Friends: King of the Railway OK for your child? Read Common Sense Media&#039;s movie review to help you make informed decisions.\" />\\n<meta property=\"og:description\" content=\"Is Thomas &amp; Friends: King of the Railway OK for your child? Read Common Sense Media&#039;s movie review to help you make informed decisions.\" />\\n<meta property=\"og:url\" content=\"https://www.commonsensemedia.org/movie-reviews/thomas-friends-king-of-the-railway\" />\\n<meta property=\"og:title\" content=\"Thomas &amp; Friends: King of the Railway - Movie Review\" />\\n<meta http-equiv=\"x-dns-prefetch-control\" content=\"on\" />\\n<meta name=\"Generator\" content=\"Drupal 7 (http://drupal.org)\" />\\n<link rel=\"dns-prefetch\" href=\"//d344emq0b'"
       ]
      }
     ],
     "prompt_number": 6
    },
    {
     "cell_type": "code",
     "collapsed": false,
     "input": [
      "d=pq(tomstuff.text)\n",
      "print \"Title: \"+ d(\"meta[property='og:title']\").attr('content')\n",
      "print \"Age rating (CSM): \"+ d(\"div#slider-container span.targetAge\").text()\n",
      "print \"Quality rating (CSM): \"+ d(\"div.ratings-small\").attr('class') #need to extract 3\n",
      "print \"Educational rating: \"+ d(\"div.educational\").nextAll(\"div div div.content-grid-rating\").attr(\"class\")# need to extract number\n",
      "print \"Positive message rating: \"+ d(\"div.message\").nextAll(\"div div div.content-grid-rating\").attr(\"class\")# need to extract number\n",
      "print \"Positive role model rating: \"+ d(\"div.role_model\").nextAll(\"div div div.content-grid-rating\").attr(\"class\")# need to extract \n",
      "print \"Review: \"+d(\"div.field-name-field-parents-need-to-know\").text()\n",
      "print \"Age rating (parents): \"+ d(\"div#user-review-statistics-adult div.target-age\").text()\n",
      "print \"Quality rating (parents): \"+ d(\"div#user-review-statistics-adult div.ratings-small\").attr(\"class\") #need to extract number\n",
      "if d(\"div#user-review-statistics-child div.no-stats\"):\n",
      "    print \"Age rating (kids): n/a\"\n",
      "    print \"Quality rating (kids): n/a\"\n",
      "else:\n",
      "    print \"Age rating (kids): \"+d(\"div#user-review-statistics-child div.target-age\").text()\n",
      "    print \"Quality rating (kids): \"+ d(\"div#user-review-statistics-child div.ratings-small\").attr(\"class\") #need to extract number\n"
     ],
     "language": "python",
     "metadata": {},
     "outputs": [
      {
       "output_type": "stream",
       "stream": "stdout",
       "text": [
        "Title: Thomas & Friends: King of the Railway - Movie Review\n",
        "Age rating (CSM): 3\n",
        "Quality rating (CSM): ratings-small star rating-3 field_stars_rating csm_review\n",
        "Educational rating: content-grid-rating content-grid-2 field_content_grid_rating field_collection_content_grid\n",
        "Positive message rating: content-grid-rating content-grid-4 field_content_grid_rating field_collection_content_grid\n",
        "Positive role model rating: content-grid-rating content-grid-3 field_content_grid_rating field_collection_content_grid\n",
        "Review: Parents need to know that all the familiar trains are back in a new preschooler-appropriate adventure. Thomas & Friends: King of the Railway is intended for very young viewers and delivers a simple story and easy-to-understand messages about teamwork and keeping one's word. There are a few mildly scary scenes (runaway trains on a steep hill, an engine trapped in a mine), but the movie is mainly lighthearted (no villains here) and, as always, upbeat and positive in tone and resolution as well as the music that comes along with the ride. Thomas & Friends is part of a vast franchise of books, videos, toys, clothing, and children's accessories, so expect an interest in those, too.\n",
        "Age rating (parents): 4\n",
        "Quality rating (parents): ratings-small star rating-4 field_stars_rating csm_review\n",
        "Age rating (kids): n/a\n",
        "Quality rating (kids): n/a\n"
       ]
      }
     ],
     "prompt_number": 49
    },
    {
     "cell_type": "code",
     "collapsed": false,
     "input": [],
     "language": "python",
     "metadata": {},
     "outputs": []
    }
   ],
   "metadata": {}
  }
 ]
}