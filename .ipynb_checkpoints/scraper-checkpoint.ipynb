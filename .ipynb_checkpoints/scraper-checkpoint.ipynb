{
 "metadata": {
  "name": "",
  "signature": "sha256:dc7a54d532925ac73d9dbdccb4fafdddcdc350c781800728836a0f4c4dd99107"
 },
 "nbformat": 3,
 "nbformat_minor": 0,
 "worksheets": [
  {
   "cells": [
    {
     "cell_type": "code",
     "collapsed": false,
     "input": [
      "URLSTART=\"https://www.commonsensemedia.org\"\n",
      "MOVIES=\"/reviews/age/2/age/3/age/4/age/5/category/movie\"\n",
      "import time, requests\n",
      "for i in xrange(1,3):\n",
      "    movieurl=\"?page=\"+str(i)\n",
      "    stuff=requests.get(URLSTART+MOVIES+movieurl)\n",
      "    filetowrite=\"page\"+ '%02d' % i\n",
      "    print \"FTW\", filetowrite\n",
      "    fd=open(filetowrite+\".html\",\"w\")\n",
      "    fd.write(stuff.text.encode('utf-8'))\n",
      "    fd.close()\n",
      "    time.sleep(2)"
     ],
     "language": "python",
     "metadata": {},
     "outputs": [
      {
       "output_type": "stream",
       "stream": "stdout",
       "text": [
        "FTW page01\n",
        "FTW"
       ]
      },
      {
       "output_type": "stream",
       "stream": "stdout",
       "text": [
        " page02\n"
       ]
      }
     ],
     "prompt_number": 2
    },
    {
     "cell_type": "code",
     "collapsed": false,
     "input": [
      "from pyquery import PyQuery as pq\n",
      "moviedict={}\n",
      "for i in xrange(1,3):\n",
      "    movies=[]\n",
      "    stri = '%02d' % i\n",
      "    filetoread=\"page\"+ stri + '.html'\n",
      "    print \"FTW\", filetoread\n",
      "    d=pq(filename=filetoread)\n",
      "    for e in d('.field-content a'):  \n",
      "        movies.append(pq(e).attr.href)\n",
      "    print movies[:10]\n",
      "    moviedict[stri]=movies\n",
      "    fd=open(\"list\"+stri+\".txt\",\"w\")\n",
      "    fd.write(\"\\n\".join(movies))\n",
      "    fd.close()\n",
      "        \n",
      "        \n",
      "    "
     ],
     "language": "python",
     "metadata": {},
     "outputs": [
      {
       "output_type": "stream",
       "stream": "stdout",
       "text": [
        "FTW page01.html\n",
        "['/movie-reviews/minnie-rella', '/movie-reviews/minnie-rella', '/movie-reviews/strawberry-shortcake-puttin-on-the-glitz', '/movie-reviews/strawberry-shortcake-puttin-on-the-glitz', '/movie-reviews/mumfies-quest-the-movie', '/movie-reviews/mumfies-quest-the-movie', '/movie-reviews/sesame-street-be-a-good-sport', '/movie-reviews/sesame-street-be-a-good-sport', '/movie-reviews/jake-and-the-never-land-pirates-jakes-never-land-rescue', '/movie-reviews/jake-and-the-never-land-pirates-jakes-never-land-rescue']"
       ]
      },
      {
       "output_type": "stream",
       "stream": "stdout",
       "text": [
        "\n",
        "FTW page02.html\n",
        "['/movie-reviews/thomas-friends-king-of-the-railway', '/movie-reviews/thomas-friends-king-of-the-railway', '/movie-reviews/hoopsyoyos-haunted-halloween', '/movie-reviews/hoopsyoyos-haunted-halloween', '/movie-reviews/lala-oopsies-a-sew-magical-tale', '/movie-reviews/lala-oopsies-a-sew-magical-tale', '/movie-reviews/barbie-mariposa-the-fairy-princess', '/movie-reviews/barbie-mariposa-the-fairy-princess', '/movie-reviews/super-buddies', '/movie-reviews/super-buddies']"
       ]
      },
      {
       "output_type": "stream",
       "stream": "stdout",
       "text": [
        "\n"
       ]
      }
     ],
     "prompt_number": 3
    },
    {
     "cell_type": "code",
     "collapsed": false,
     "input": [
      "tomurl=URLSTART+moviedict['02'][4]\n",
      "tomurl\n"
     ],
     "language": "python",
     "metadata": {},
     "outputs": [
      {
       "metadata": {},
       "output_type": "pyout",
       "prompt_number": 103,
       "text": [
        "'https://www.commonsensemedia.org/movie-reviews/lala-oopsies-a-sew-magical-tale'"
       ]
      }
     ],
     "prompt_number": 103
    },
    {
     "cell_type": "code",
     "collapsed": false,
     "input": [
      "tomstuff=requests.get(tomurl)"
     ],
     "language": "python",
     "metadata": {},
     "outputs": [],
     "prompt_number": 104
    },
    {
     "cell_type": "code",
     "collapsed": false,
     "input": [
      "tomstuff.text[800:2000]"
     ],
     "language": "python",
     "metadata": {},
     "outputs": [
      {
       "metadata": {},
       "output_type": "pyout",
       "prompt_number": 105,
       "text": [
        "u'js\"><!--<![endif]-->\\n\\n<head profile=\"http://www.w3.org/1999/xhtml/vocab\">\\n  <!--[if lte IE 9]><meta http-equiv=\"X-UA-Compatible\" content=\"IE=edge,chrome=1\" />\\n<![endif]--><meta charset=\"utf-8\" />\\n<meta name=\"keywords\" content=\"Movie\" />\\n<meta property=\"og:image\" content=\"https://d2e111jq13me73.cloudfront.net/sites/default/files/styles/share_link_image/public/product-images/csm-movie/lalaoopsies.jpg?itok=zQ9qGS_5\" />\\n<meta name=\"description\" content=\"Is Lala-Oopsies: A Sew Magical Tale OK for your child? Read Common Sense Media&#039;s movie review to help you make informed decisions.\" />\\n<meta property=\"og:description\" content=\"Is Lala-Oopsies: A Sew Magical Tale OK for your child? Read Common Sense Media&#039;s movie review to help you make informed decisions.\" />\\n<meta property=\"og:url\" content=\"https://www.commonsensemedia.org/movie-reviews/lala-oopsies-a-sew-magical-tale\" />\\n<meta property=\"og:title\" content=\"Lala-Oopsies: A Sew Magical Tale - Movie Review\" />\\n<meta http-equiv=\"x-dns-prefetch-control\" content=\"on\" />\\n<meta name=\"Generator\" content=\"Drupal 7 (http://drupal.org)\" />\\n<link rel=\"dns-prefetch\" href=\"//d344emq0b7u044.cloudfront.net\" />\\n<link rel=\"dns-prefetch\" href=\"/'"
       ]
      }
     ],
     "prompt_number": 105
    },
    {
     "cell_type": "code",
     "collapsed": false,
     "input": [
      "d=pq(tomstuff.text)\n",
      "print \"Title: \"+ d(\"meta[property='og:title']\").attr('content').split(' - ')[0]\n",
      "print \"Age rating (CSM): \"+ d(\"div#slider-container span.targetAge\").text()\n",
      "print \"Quality rating (CSM): \"+ d(\"div.ratings-small\").attr('class').split()[2].split('-')[1] \n",
      "print \"Educational value rating: \"+ d(\"div.educational\").nextAll(\"div div div.content-grid-rating\").attr(\"class\").split()[1].split('-')[2]\n",
      "\n",
      "#ed note not working:  need to add notes for others, too\n",
      "print \"Educational value note: \"+ str(d(\"a#content-grid-type-selected-educational\").attr(\"class\"))\n",
      "\n",
      "print \"Positive message rating: \"+ d(\"div.message\").nextAll(\"div div div.content-grid-rating\").attr(\"class\").split()[1].split('-')[2]\n",
      "print \"Positive role model rating: \"+ d(\"div.role_model\").nextAll(\"div div div.content-grid-rating\").attr(\"class\").split()[1].split('-')[2]\n",
      "print \"Violence and scariness rating: \"+ d(\"div.violence\").nextAll(\"div div div.content-grid-rating\").attr(\"class\").split()[1].split('-')[2] \n",
      "print \"Sexy stuff rating: \"+ d(\"div.sex\").nextAll(\"div div div.content-grid-rating\").attr(\"class\").split()[1].split('-')[2]\n",
      "print \"Language rating: \"+ d(\"div.language\").nextAll(\"div div div.content-grid-rating\").attr(\"class\").split()[1].split('-')[2]\n",
      "print \"Consumerism rating: \"+ d(\"div.consumerism\").nextAll(\"div div div.content-grid-rating\").attr(\"class\").split()[1].split('-')[2]\n",
      "print \"Drug rating: \"+ d(\"div.drugs\").nextAll(\"div div div.content-grid-rating\").attr(\"class\").split()[1].split('-')[2] \n",
      "\n",
      "print \"Review: \"+d(\"div.field-name-field-parents-need-to-know\").text()\n",
      "if d(\"div.panel-pane pane-user-review-statistics\"):\n",
      "    if d(\"div#user-review-statistics-adult div.no-stats\"):\n",
      "        print \"Age rating (parents): n/a\"\n",
      "        print \"Quality rating (parents): n/a\"\n",
      "        print \"Number of ratings (parents): 0\"\n",
      "    else:\n",
      "        print \"Age rating (parents): \"+ d(\"div#user-review-statistics-adult div.target-age\").text()\n",
      "        print \"Quality rating (parents): \"+ d(\"div#user-review-statistics-adult div.ratings-small\").attr(\"class\").split()[2].split('-')[1] \n",
      "        print \"Number of ratings (parents): \"+ d(\"div.adult a.link-all-user-reviews\").text().split()[1]\n",
      "    if d(\"div#user-review-statistics-child div.no-stats\"):\n",
      "        print \"Age rating (kids): n/a\"\n",
      "        print \"Quality rating (kids): n/a\"\n",
      "        print \"Number of ratings (kids): 0\"\n",
      "    else:\n",
      "        print \"Age rating (kids): \"+d(\"div#user-review-statistics-child div.target-age\").text()\n",
      "        print \"Quality rating (kids): \"+ d(\"div#user-review-statistics-child div.ratings-small\").attr(\"class\").split()[1].split('-')[2] \n",
      "        print \"Number of ratings (parents): \"+ d(\"div.child a.link-all-user-reviews\").text().split()[1]\n",
      "else:\n",
      "        print \"Age rating (parents): n/a\"\n",
      "        print \"Quality rating (parents): n/a\"\n",
      "        print \"Number of ratings (parents): 0\"  \n",
      "        print \"Age rating (kids): n/a\"\n",
      "        print \"Quality rating (kids): n/a\"\n",
      "        print \"Number of ratings (kids): 0\"\n"
     ],
     "language": "python",
     "metadata": {},
     "outputs": [
      {
       "output_type": "stream",
       "stream": "stdout",
       "text": [
        "Title: Lala-Oopsies: A Sew Magical Tale\n",
        "Age rating (CSM): 4\n",
        "Quality rating (CSM): 2\n",
        "Educational value rating: 1\n",
        "Educational value note: None\n",
        "Positive message rating: 1"
       ]
      },
      {
       "output_type": "stream",
       "stream": "stdout",
       "text": [
        "\n",
        "Positive role model rating: 1\n",
        "Violence and scariness rating: 0\n",
        "Sexy stuff rating: 0\n",
        "Language rating: 0"
       ]
      },
      {
       "output_type": "stream",
       "stream": "stdout",
       "text": [
        "\n",
        "Consumerism rating: 3\n",
        "Drug rating: 0\n",
        "Review: Parents need to know that Lala-Oopsies: A Sew Magical Tale is a direct-to-DVD spin-off of the popular Lalaloopsy doll line and TV show. Although the characters are similar to the Lalaloopsies, they're different enough to warrant their own product line. As with the Lalaloopsy\u00a0franchise, the movie is geared toward a young audience and has no iffy language or content and features themes such as teamwork, friendship, and problem-solving, though some parents may object to the emphasis on appearance.\n"
       ]
      }
     ],
     "prompt_number": 107
    },
    {
     "cell_type": "code",
     "collapsed": false,
     "input": [],
     "language": "python",
     "metadata": {},
     "outputs": [],
     "prompt_number": 106
    },
    {
     "cell_type": "code",
     "collapsed": false,
     "input": [],
     "language": "python",
     "metadata": {},
     "outputs": []
    }
   ],
   "metadata": {}
  }
 ]
}