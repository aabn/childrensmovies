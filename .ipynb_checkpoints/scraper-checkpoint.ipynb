{
 "metadata": {
  "name": "",
  "signature": "sha256:011c3a3c33c0b69bd6143b8b054c273e1e1a646deff9fbcadfa2b489c85113bc"
 },
 "nbformat": 3,
 "nbformat_minor": 0,
 "worksheets": [
  {
   "cells": [
    {
     "cell_type": "code",
     "collapsed": false,
     "input": [
      "URLSTART=\"https://www.commonsensemedia.org\"\n",
      "MOVIES=\"/reviews/age/2/age/3/age/4/age/5/category/movie\"\n",
      "import time, requests\n",
      "for i in xrange(1,3):\n",
      "    movieurl=\"?page=\"+str(i)\n",
      "    stuff=requests.get(URLSTART+MOVIES+movieurl)\n",
      "    filetowrite=\"page\"+ '%02d' % i\n",
      "    print \"FTW\", filetowrite\n",
      "    fd=open(filetowrite+\".html\",\"w\")\n",
      "    fd.write(stuff.text.encode('utf-8'))\n",
      "    fd.close()\n",
      "    time.sleep(2)"
     ],
     "language": "python",
     "metadata": {},
     "outputs": [
      {
       "output_type": "stream",
       "stream": "stdout",
       "text": [
        "FTW page01\n",
        "FTW"
       ]
      },
      {
       "output_type": "stream",
       "stream": "stdout",
       "text": [
        " page02\n"
       ]
      }
     ],
     "prompt_number": 19
    },
    {
     "cell_type": "code",
     "collapsed": false,
     "input": [
      "from pyquery import PyQuery as pq\n",
      "moviedict={}\n",
      "for i in xrange(1,3):\n",
      "    movies=[]\n",
      "    stri = '%02d' % i\n",
      "    filetoread=\"page\"+ stri + '.html'\n",
      "    print \"FTW\", filetoread\n",
      "    d=pq(filename=filetoread)\n",
      "    for e in d('.field-content a'):  \n",
      "        movies.append(pq(e).attr.href)\n",
      "    print movies[:10]\n",
      "    moviedict[stri]=movies\n",
      "    fd=open(\"list\"+stri+\".txt\",\"w\")\n",
      "    fd.write(\"\\n\".join(movies))\n",
      "    fd.close()\n",
      "        \n",
      "        \n",
      "    "
     ],
     "language": "python",
     "metadata": {},
     "outputs": [
      {
       "output_type": "stream",
       "stream": "stdout",
       "text": [
        "FTW page01.html\n",
        "['/movie-reviews/minnie-rella', '/movie-reviews/minnie-rella', '/movie-reviews/strawberry-shortcake-puttin-on-the-glitz', '/movie-reviews/strawberry-shortcake-puttin-on-the-glitz', '/movie-reviews/mumfies-quest-the-movie', '/movie-reviews/mumfies-quest-the-movie', '/movie-reviews/sesame-street-be-a-good-sport', '/movie-reviews/sesame-street-be-a-good-sport', '/movie-reviews/jake-and-the-never-land-pirates-jakes-never-land-rescue', '/movie-reviews/jake-and-the-never-land-pirates-jakes-never-land-rescue']\n",
        "FTW page02.html\n",
        "['/movie-reviews/thomas-friends-king-of-the-railway', '/movie-reviews/thomas-friends-king-of-the-railway', '/movie-reviews/hoopsyoyos-haunted-halloween', '/movie-reviews/hoopsyoyos-haunted-halloween', '/movie-reviews/lala-oopsies-a-sew-magical-tale', '/movie-reviews/lala-oopsies-a-sew-magical-tale', '/movie-reviews/barbie-mariposa-the-fairy-princess', '/movie-reviews/barbie-mariposa-the-fairy-princess', '/movie-reviews/super-buddies', '/movie-reviews/super-buddies']"
       ]
      },
      {
       "output_type": "stream",
       "stream": "stdout",
       "text": [
        "\n"
       ]
      }
     ],
     "prompt_number": 20
    },
    {
     "cell_type": "code",
     "collapsed": false,
     "input": [
      "tomurl=URLSTART+moviedict['02'][0]\n",
      "tomurl\n"
     ],
     "language": "python",
     "metadata": {},
     "outputs": [
      {
       "metadata": {},
       "output_type": "pyout",
       "prompt_number": 21,
       "text": [
        "'https://www.commonsensemedia.org/movie-reviews/thomas-friends-king-of-the-railway'"
       ]
      }
     ],
     "prompt_number": 21
    },
    {
     "cell_type": "code",
     "collapsed": false,
     "input": [
      "tomstuff=requests.get(tomurl)"
     ],
     "language": "python",
     "metadata": {},
     "outputs": [],
     "prompt_number": 25
    },
    {
     "cell_type": "code",
     "collapsed": false,
     "input": [
      "tomstuff.text[800:2000]"
     ],
     "language": "python",
     "metadata": {},
     "outputs": [
      {
       "metadata": {},
       "output_type": "pyout",
       "prompt_number": 27,
       "text": [
        "u'js\"><!--<![endif]-->\\n\\n<head profile=\"http://www.w3.org/1999/xhtml/vocab\">\\n  <!--[if lte IE 9]><meta http-equiv=\"X-UA-Compatible\" content=\"IE=edge,chrome=1\" />\\n<![endif]--><meta charset=\"utf-8\" />\\n<meta name=\"keywords\" content=\"Movie,Book characters,Trains\" />\\n<meta property=\"og:image\" content=\"https://d2e111jq13me73.cloudfront.net/sites/default/files/styles/share_link_image/public/product-images/csm-movie/king-of-railway.jpg?itok=1nAKOr7_\" />\\n<meta name=\"description\" content=\"Is Thomas &amp; Friends: King of the Railway OK for your child? Read Common Sense Media&#039;s movie review to help you make informed decisions.\" />\\n<meta property=\"og:description\" content=\"Is Thomas &amp; Friends: King of the Railway OK for your child? Read Common Sense Media&#039;s movie review to help you make informed decisions.\" />\\n<meta property=\"og:url\" content=\"https://www.commonsensemedia.org/movie-reviews/thomas-friends-king-of-the-railway\" />\\n<meta property=\"og:title\" content=\"Thomas &amp; Friends: King of the Railway - Movie Review\" />\\n<meta http-equiv=\"x-dns-prefetch-control\" content=\"on\" />\\n<meta name=\"Generator\" content=\"Drupal 7 (http://drupal.org)\" />\\n<link rel=\"dns-prefetch\" href=\"//d344emq0b'"
       ]
      }
     ],
     "prompt_number": 27
    },
    {
     "cell_type": "code",
     "collapsed": false,
     "input": [
      "d=pq(tomstuff.text)\n",
      "print \"Title: \"+ d(\"meta[property='og:title']\").attr('content')\n",
      "print \"Age: \"+ d(\"div#slider-container span.targetAge\").text()\n",
      "print \"Age (parents): \"+ d(\"div#user-review-statistics-adult div.target-age\").text()\n",
      "print \"Age (child): \"+ d(\"div#user-review-statistics-child div.target-age\").text()\n",
      "print \"Review date: \"+d(\"table#review-product-details-table tbody tr.0 td.value\").text()"
     ],
     "language": "python",
     "metadata": {},
     "outputs": [
      {
       "output_type": "stream",
       "stream": "stdout",
       "text": [
        "Title: Thomas & Friends: King of the Railway - Movie Review\n",
        "Age: 3\n",
        "Age (parents) 4\n",
        "Age (child) \n"
       ]
      },
      {
       "ename": "SelectorSyntaxError",
       "evalue": "Expected selector, got <NUMBER '.0' at 43>",
       "output_type": "pyerr",
       "traceback": [
        "\u001b[0;36m  File \u001b[0;32m\"<string>\"\u001b[0;36m, line \u001b[0;32munknown\u001b[0m\n\u001b[0;31mSelectorSyntaxError\u001b[0m\u001b[0;31m:\u001b[0m Expected selector, got <NUMBER '.0' at 43>\n"
       ]
      }
     ],
     "prompt_number": 50
    },
    {
     "cell_type": "code",
     "collapsed": false,
     "input": [],
     "language": "python",
     "metadata": {},
     "outputs": []
    }
   ],
   "metadata": {}
  }
 ]
}